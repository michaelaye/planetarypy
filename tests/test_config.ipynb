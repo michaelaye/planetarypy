{
 "cells": [
  {
   "cell_type": "markdown",
   "metadata": {},
   "source": [
    "# Config"
   ]
  },
  {
   "cell_type": "code",
   "execution_count": 1,
   "metadata": {},
   "outputs": [],
   "source": [
    "from importlib.resources import files\n",
    "import json"
   ]
  },
  {
   "cell_type": "code",
   "execution_count": 2,
   "metadata": {},
   "outputs": [],
   "source": [
    "def pprint(my_dict):\n",
    "    print(json.dumps(my_dict, sort_keys=True, indent=2))"
   ]
  },
  {
   "cell_type": "code",
   "execution_count": 3,
   "metadata": {},
   "outputs": [
    {
     "data": {
      "text/plain": [
       "PosixPath('/home/ayek72/Dropbox/src/planetarypy/src/planetarypy/data')"
      ]
     },
     "execution_count": 3,
     "metadata": {},
     "output_type": "execute_result"
    }
   ],
   "source": [
    "files(\"planetarypy.data\")"
   ]
  },
  {
   "cell_type": "code",
   "execution_count": 4,
   "metadata": {},
   "outputs": [],
   "source": [
    "from planetarypy.config import config"
   ]
  },
  {
   "cell_type": "code",
   "execution_count": 5,
   "metadata": {},
   "outputs": [
    {
     "name": "stdout",
     "output_type": "stream",
     "text": [
      "{\n",
      "  \"missions\": {\n",
      "    \"cassini\": {\n",
      "      \"iss\": {\n",
      "        \"indexes\": {\n",
      "          \"index\": {\n",
      "            \"url\": \"https://pds-rings.seti.org/holdings/metadata/COISS_2xxx/COISS_2999/COISS_2999_index.lbl\"\n",
      "          },\n",
      "          \"inventory\": {\n",
      "            \"url\": \"https://pds-rings.seti.org/holdings/metadata/COISS_2xxx/COISS_2999/COISS_2999_inventory.lbl\"\n",
      "          },\n",
      "          \"moon_summary\": {\n",
      "            \"timestamp\": \"2019-06-08T16:28:22\",\n",
      "            \"url\": \"https://pds-rings.seti.org/holdings/metadata/COISS_2xxx/COISS_2999/COISS_2999_moon_summary.lbl\"\n",
      "          },\n",
      "          \"ring_summary\": {\n",
      "            \"timestamp\": \"2022-08-08T11:54:51.140376\",\n",
      "            \"url\": \"https://pds-rings.seti.org/holdings/metadata/COISS_2xxx/COISS_2999/COISS_2999_ring_summary.lbl\"\n",
      "          },\n",
      "          \"saturn_summary\": {\n",
      "            \"timestamp\": \"\",\n",
      "            \"url\": \"https://pds-rings.seti.org/holdings/metadata/COISS_2xxx/COISS_2999/COISS_2999_saturn_summary.lbl\"\n",
      "          }\n",
      "        }\n",
      "      },\n",
      "      \"uvis\": {\n",
      "        \"indexes\": {\n",
      "          \"index\": {\n",
      "            \"timestamp\": \"\",\n",
      "            \"url\": \"https://pds-rings.seti.org/holdings/metadata/COUVIS_0xxx/COUVIS_0999/COUVIS_0999_index.lbl\"\n",
      "          },\n",
      "          \"moon_summary\": {\n",
      "            \"url\": \"https://pds-rings.seti.org/holdings/metadata/COUVIS_0xxx/COUVIS_0999/COUVIS_0999_moon_summary.lbl\"\n",
      "          },\n",
      "          \"ring_summary\": {\n",
      "            \"timestamp\": \"\",\n",
      "            \"url\": \"https://pds-rings.seti.org/holdings/metadata/COUVIS_0xxx/COUVIS_0999/COUVIS_0999_ring_summary.lbl\"\n",
      "          },\n",
      "          \"saturn_summary\": {\n",
      "            \"url\": \"https://pds-rings.seti.org/holdings/metadata/COUVIS_0xxx/COUVIS_0999/COUVIS_0999_saturn_summary.lbl\"\n",
      "          },\n",
      "          \"supplemental_index\": {\n",
      "            \"url\": \"https://pds-rings.seti.org/holdings/metadata/COUVIS_0xxx/COUVIS_0999/COUVIS_0999_supplemental_index.lbl\"\n",
      "          },\n",
      "          \"versions\": {\n",
      "            \"url\": \"https://pds-rings.seti.org/holdings/metadata/COUVIS_0xxx/COUVIS_0999/COUVIS_0999_versions.lbl\"\n",
      "          }\n",
      "        }\n",
      "      }\n",
      "    },\n",
      "    \"go\": {\n",
      "      \"ssi\": {\n",
      "        \"indexes\": {\n",
      "          \"edr\": {\n",
      "            \"timestamp\": \"\",\n",
      "            \"url\": \"https://pds-rings.seti.org/holdings/metadata/GO_0xxx/GO_0999/GO_0999_index.lbl\"\n",
      "          }\n",
      "        }\n",
      "      }\n",
      "    },\n",
      "    \"lro\": {\n",
      "      \"diviner\": {\n",
      "        \"indexes\": {\n",
      "          \"edr1\": {\n",
      "            \"url\": \"https://pds-geosciences.wustl.edu/lro/lro-l-dlre-2-edr-v1/lrodlr_0001/index/index.lbl\"\n",
      "          },\n",
      "          \"edr2\": {\n",
      "            \"url\": \"https://pds-geosciences.wustl.edu/lro/lro-l-dlre-2-edr-v1/lrodlr_0002/index/index.lbl\"\n",
      "          },\n",
      "          \"rdr1\": {\n",
      "            \"url\": \"https://pds-geosciences.wustl.edu/lro/lro-l-dlre-4-rdr-v1/lrodlr_1001/index/rdrindex.lbl\"\n",
      "          },\n",
      "          \"rdr2\": {\n",
      "            \"url\": \"https://pds-geosciences.wustl.edu/lro/lro-l-dlre-4-rdr-v1/lrodlr_1002/index/rdrindex.lbl\"\n",
      "          }\n",
      "        }\n",
      "      },\n",
      "      \"lola\": {\n",
      "        \"indexes\": {\n",
      "          \"edr\": {\n",
      "            \"url\": \"http://pds-geosciences.wustl.edu/lro/lro-l-lola-2-edr-v1/lrolol_0xxx/index/edrindex.lbl\"\n",
      "          },\n",
      "          \"rdr\": {\n",
      "            \"url\": \"http://pds-geosciences.wustl.edu/lro/lro-l-lola-3-rdr-v1/lrolol_1xxx/index/rdrindex.lbl\"\n",
      "          }\n",
      "        }\n",
      "      },\n",
      "      \"lroc\": {\n",
      "        \"indexes\": {\n",
      "          \"edr\": {\n",
      "            \"url\": \"http://pds.lroc.asu.edu/data/LRO-L-LROC-2-EDR-V1.0/LROLRC_0048C/INDEX/CUMINDEX.LBL\"\n",
      "          }\n",
      "        }\n",
      "      }\n",
      "    },\n",
      "    \"mro\": {\n",
      "      \"ctx\": {\n",
      "        \"calib_extension\": \"\",\n",
      "        \"datalevels\": {\n",
      "          \"edr\": {\n",
      "            \"root\": \"\",\n",
      "            \"url\": \"https://pds-imaging.jpl.nasa.gov/data/mro/mars_reconnaissance_orbiter/ctx\",\n",
      "            \"with_pid_folder\": \"\",\n",
      "            \"with_volume\": \"\"\n",
      "          }\n",
      "        },\n",
      "        \"index_required\": \"\",\n",
      "        \"indexes\": {\n",
      "          \"edr\": {\n",
      "            \"timestamp\": \"2024-03-19T14:55:02.840504\",\n",
      "            \"url\": \"\"\n",
      "          }\n",
      "        },\n",
      "        \"root\": \"\",\n",
      "        \"with_pid_folder\": \"\",\n",
      "        \"with_volume\": \"\"\n",
      "      },\n",
      "      \"hirise\": {\n",
      "        \"indexes\": {\n",
      "          \"dtm\": {\n",
      "            \"url\": \"https://hirise-pds.lpl.arizona.edu/PDS/INDEX/DTMCUMINDEX.LBL\"\n",
      "          },\n",
      "          \"edr\": {\n",
      "            \"timestamp\": \"2024-04-30T21:31:58\",\n",
      "            \"url\": \"https://hirise-pds.lpl.arizona.edu/PDS/INDEX/EDRCUMINDEX.LBL\"\n",
      "          },\n",
      "          \"rdr\": {\n",
      "            \"timestamp\": \"\",\n",
      "            \"url\": \"https://hirise-pds.lpl.arizona.edu/PDS/INDEX/RDRCUMINDEX.LBL\"\n",
      "          }\n",
      "        }\n",
      "      }\n",
      "    }\n",
      "  },\n",
      "  \"storage_root\": \"/media/ayek72/data/planetarypy\"\n",
      "}\n"
     ]
    }
   ],
   "source": [
    "pprint(config.d)"
   ]
  },
  {
   "cell_type": "code",
   "execution_count": 6,
   "metadata": {},
   "outputs": [
    {
     "name": "stdout",
     "output_type": "stream",
     "text": [
      "{\n",
      "  \"iss\": {\n",
      "    \"indexes\": {\n",
      "      \"index\": {\n",
      "        \"url\": \"https://pds-rings.seti.org/holdings/metadata/COISS_2xxx/COISS_2999/COISS_2999_index.lbl\"\n",
      "      },\n",
      "      \"inventory\": {\n",
      "        \"url\": \"https://pds-rings.seti.org/holdings/metadata/COISS_2xxx/COISS_2999/COISS_2999_inventory.lbl\"\n",
      "      },\n",
      "      \"moon_summary\": {\n",
      "        \"timestamp\": \"2019-06-08T16:28:22\",\n",
      "        \"url\": \"https://pds-rings.seti.org/holdings/metadata/COISS_2xxx/COISS_2999/COISS_2999_moon_summary.lbl\"\n",
      "      },\n",
      "      \"ring_summary\": {\n",
      "        \"timestamp\": \"2022-08-08T11:54:51.140376\",\n",
      "        \"url\": \"https://pds-rings.seti.org/holdings/metadata/COISS_2xxx/COISS_2999/COISS_2999_ring_summary.lbl\"\n",
      "      },\n",
      "      \"saturn_summary\": {\n",
      "        \"timestamp\": \"\",\n",
      "        \"url\": \"https://pds-rings.seti.org/holdings/metadata/COISS_2xxx/COISS_2999/COISS_2999_saturn_summary.lbl\"\n",
      "      }\n",
      "    }\n",
      "  },\n",
      "  \"uvis\": {\n",
      "    \"indexes\": {\n",
      "      \"index\": {\n",
      "        \"timestamp\": \"\",\n",
      "        \"url\": \"https://pds-rings.seti.org/holdings/metadata/COUVIS_0xxx/COUVIS_0999/COUVIS_0999_index.lbl\"\n",
      "      },\n",
      "      \"moon_summary\": {\n",
      "        \"url\": \"https://pds-rings.seti.org/holdings/metadata/COUVIS_0xxx/COUVIS_0999/COUVIS_0999_moon_summary.lbl\"\n",
      "      },\n",
      "      \"ring_summary\": {\n",
      "        \"timestamp\": \"\",\n",
      "        \"url\": \"https://pds-rings.seti.org/holdings/metadata/COUVIS_0xxx/COUVIS_0999/COUVIS_0999_ring_summary.lbl\"\n",
      "      },\n",
      "      \"saturn_summary\": {\n",
      "        \"url\": \"https://pds-rings.seti.org/holdings/metadata/COUVIS_0xxx/COUVIS_0999/COUVIS_0999_saturn_summary.lbl\"\n",
      "      },\n",
      "      \"supplemental_index\": {\n",
      "        \"url\": \"https://pds-rings.seti.org/holdings/metadata/COUVIS_0xxx/COUVIS_0999/COUVIS_0999_supplemental_index.lbl\"\n",
      "      },\n",
      "      \"versions\": {\n",
      "        \"url\": \"https://pds-rings.seti.org/holdings/metadata/COUVIS_0xxx/COUVIS_0999/COUVIS_0999_versions.lbl\"\n",
      "      }\n",
      "    }\n",
      "  }\n",
      "}\n"
     ]
    }
   ],
   "source": [
    "pprint(config[\"missions\"][\"cassini\"])"
   ]
  },
  {
   "cell_type": "code",
   "execution_count": 7,
   "metadata": {},
   "outputs": [
    {
     "name": "stdout",
     "output_type": "stream",
     "text": [
      "{\n",
      "  \"iss\": {\n",
      "    \"indexes\": {\n",
      "      \"index\": {\n",
      "        \"url\": \"https://pds-rings.seti.org/holdings/metadata/COISS_2xxx/COISS_2999/COISS_2999_index.lbl\"\n",
      "      },\n",
      "      \"inventory\": {\n",
      "        \"url\": \"https://pds-rings.seti.org/holdings/metadata/COISS_2xxx/COISS_2999/COISS_2999_inventory.lbl\"\n",
      "      },\n",
      "      \"moon_summary\": {\n",
      "        \"timestamp\": \"2019-06-08T16:28:22\",\n",
      "        \"url\": \"https://pds-rings.seti.org/holdings/metadata/COISS_2xxx/COISS_2999/COISS_2999_moon_summary.lbl\"\n",
      "      },\n",
      "      \"ring_summary\": {\n",
      "        \"timestamp\": \"2022-08-08T11:54:51.140376\",\n",
      "        \"url\": \"https://pds-rings.seti.org/holdings/metadata/COISS_2xxx/COISS_2999/COISS_2999_ring_summary.lbl\"\n",
      "      },\n",
      "      \"saturn_summary\": {\n",
      "        \"timestamp\": \"\",\n",
      "        \"url\": \"https://pds-rings.seti.org/holdings/metadata/COISS_2xxx/COISS_2999/COISS_2999_saturn_summary.lbl\"\n",
      "      }\n",
      "    }\n",
      "  },\n",
      "  \"uvis\": {\n",
      "    \"indexes\": {\n",
      "      \"index\": {\n",
      "        \"timestamp\": \"\",\n",
      "        \"url\": \"https://pds-rings.seti.org/holdings/metadata/COUVIS_0xxx/COUVIS_0999/COUVIS_0999_index.lbl\"\n",
      "      },\n",
      "      \"moon_summary\": {\n",
      "        \"url\": \"https://pds-rings.seti.org/holdings/metadata/COUVIS_0xxx/COUVIS_0999/COUVIS_0999_moon_summary.lbl\"\n",
      "      },\n",
      "      \"ring_summary\": {\n",
      "        \"timestamp\": \"\",\n",
      "        \"url\": \"https://pds-rings.seti.org/holdings/metadata/COUVIS_0xxx/COUVIS_0999/COUVIS_0999_ring_summary.lbl\"\n",
      "      },\n",
      "      \"saturn_summary\": {\n",
      "        \"url\": \"https://pds-rings.seti.org/holdings/metadata/COUVIS_0xxx/COUVIS_0999/COUVIS_0999_saturn_summary.lbl\"\n",
      "      },\n",
      "      \"supplemental_index\": {\n",
      "        \"url\": \"https://pds-rings.seti.org/holdings/metadata/COUVIS_0xxx/COUVIS_0999/COUVIS_0999_supplemental_index.lbl\"\n",
      "      },\n",
      "      \"versions\": {\n",
      "        \"url\": \"https://pds-rings.seti.org/holdings/metadata/COUVIS_0xxx/COUVIS_0999/COUVIS_0999_versions.lbl\"\n",
      "      }\n",
      "    }\n",
      "  }\n",
      "}\n"
     ]
    }
   ],
   "source": [
    "pprint(config[\"missions\"][\"cassini\"])"
   ]
  },
  {
   "cell_type": "code",
   "execution_count": 8,
   "metadata": {},
   "outputs": [
    {
     "name": "stdout",
     "output_type": "stream",
     "text": [
      "{\n",
      "  \"indexes\": {\n",
      "    \"index\": {\n",
      "      \"url\": \"https://pds-rings.seti.org/holdings/metadata/COISS_2xxx/COISS_2999/COISS_2999_index.lbl\"\n",
      "    },\n",
      "    \"inventory\": {\n",
      "      \"url\": \"https://pds-rings.seti.org/holdings/metadata/COISS_2xxx/COISS_2999/COISS_2999_inventory.lbl\"\n",
      "    },\n",
      "    \"moon_summary\": {\n",
      "      \"timestamp\": \"2019-06-08T16:28:22\",\n",
      "      \"url\": \"https://pds-rings.seti.org/holdings/metadata/COISS_2xxx/COISS_2999/COISS_2999_moon_summary.lbl\"\n",
      "    },\n",
      "    \"ring_summary\": {\n",
      "      \"timestamp\": \"2022-08-08T11:54:51.140376\",\n",
      "      \"url\": \"https://pds-rings.seti.org/holdings/metadata/COISS_2xxx/COISS_2999/COISS_2999_ring_summary.lbl\"\n",
      "    },\n",
      "    \"saturn_summary\": {\n",
      "      \"timestamp\": \"\",\n",
      "      \"url\": \"https://pds-rings.seti.org/holdings/metadata/COISS_2xxx/COISS_2999/COISS_2999_saturn_summary.lbl\"\n",
      "    }\n",
      "  }\n",
      "}\n"
     ]
    }
   ],
   "source": [
    "pprint(config[\"missions\"][\"cassini\"][\"iss\"])"
   ]
  },
  {
   "cell_type": "code",
   "execution_count": null,
   "metadata": {},
   "outputs": [],
   "source": []
  }
 ],
 "metadata": {
  "kernelspec": {
   "display_name": "py39",
   "language": "python",
   "name": "python3"
  },
  "language_info": {
   "codemirror_mode": {
    "name": "ipython",
    "version": 3
   },
   "file_extension": ".py",
   "mimetype": "text/x-python",
   "name": "python",
   "nbconvert_exporter": "python",
   "pygments_lexer": "ipython3",
   "version": "3.9.19"
  }
 },
 "nbformat": 4,
 "nbformat_minor": 2
}
