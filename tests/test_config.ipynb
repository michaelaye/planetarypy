{
 "cells": [
  {
   "cell_type": "markdown",
   "metadata": {},
   "source": [
    "# Config"
   ]
  },
  {
   "cell_type": "code",
   "execution_count": 6,
   "metadata": {},
   "outputs": [],
   "source": [
    "from importlib.resources import files"
   ]
  },
  {
   "cell_type": "code",
   "execution_count": 7,
   "metadata": {},
   "outputs": [
    {
     "data": {
      "text/plain": [
       "PosixPath('/Users/klay6683/Dropbox/src/planetarypy/src/planetarypy/data')"
      ]
     },
     "execution_count": 7,
     "metadata": {},
     "output_type": "execute_result"
    }
   ],
   "source": [
    "files('planetarypy.data')"
   ]
  },
  {
   "cell_type": "code",
   "execution_count": 8,
   "metadata": {},
   "outputs": [],
   "source": [
    "from planetarypy.config import config"
   ]
  },
  {
   "cell_type": "code",
   "execution_count": 9,
   "metadata": {},
   "outputs": [
    {
     "data": {
      "text/plain": [
       "{\n",
       "  \"storage_root\": \"/Users/klay6683/Dropbox/data/planetarypy\",\n",
       "  \"missions\": {\n",
       "    \"cassini\": {\n",
       "      \"iss\": {\n",
       "        \"indexes\": {\n",
       "          \"index\": {\n",
       "            \"url\": \"https://pds-rings.seti.org/holdings/metadata/COISS_2xxx/COISS_2999/COISS_2999_index.lbl\"\n",
       "          },\n",
       "          \"inventory\": {\n",
       "            \"url\": \"https://pds-rings.seti.org/holdings/metadata/COISS_2xxx/COISS_2999/COISS_2999_inventory.lbl\"\n",
       "          },\n",
       "          \"moon_summary\": {\n",
       "            \"url\": \"https://pds-rings.seti.org/holdings/metadata/COISS_2xxx/COISS_2999/COISS_2999_moon_summary.lbl\",\n",
       "            \"timestamp\": \"2019-06-08T16:28:22\"\n",
       "          },\n",
       "          \"ring_summary\": {\n",
       "            \"url\": \"https://pds-rings.seti.org/holdings/metadata/COISS_2xxx/COISS_2999/COISS_2999_ring_summary.lbl\",\n",
       "            \"timestamp\": \"2022-08-08T11:54:51.140376\"\n",
       "          },\n",
       "          \"saturn_summary\": {\n",
       "            \"url\": \"https://pds-rings.seti.org/holdings/metadata/COISS_2xxx/COISS_2999/COISS_2999_saturn_summary.lbl\",\n",
       "            \"timestamp\": \"2019-06-08T16:30:12\"\n",
       "          }\n",
       "        }\n",
       "      },\n",
       "      \"uvis\": {\n",
       "        \"indexes\": {\n",
       "          \"index\": {\n",
       "            \"url\": \"https://pds-rings.seti.org/holdings/metadata/COUVIS_0xxx/COUVIS_0999/COUVIS_0999_index.lbl\",\n",
       "            \"timestamp\": \"2022-01-05T02:41:27\"\n",
       "          },\n",
       "          \"moon_summary\": {\n",
       "            \"url\": \"https://pds-rings.seti.org/holdings/metadata/COUVIS_0xxx/COUVIS_0999/COUVIS_0999_moon_summary.lbl\"\n",
       "          },\n",
       "          \"ring_summary\": {\n",
       "            \"url\": \"https://pds-rings.seti.org/holdings/metadata/COUVIS_0xxx/COUVIS_0999/COUVIS_0999_ring_summary.lbl\",\n",
       "            \"timestamp\": \"2022-01-05T01:31:13\"\n",
       "          },\n",
       "          \"saturn_summary\": {\n",
       "            \"url\": \"https://pds-rings.seti.org/holdings/metadata/COUVIS_0xxx/COUVIS_0999/COUVIS_0999_saturn_summary.lbl\"\n",
       "          },\n",
       "          \"supplemental_index\": {\n",
       "            \"url\": \"https://pds-rings.seti.org/holdings/metadata/COUVIS_0xxx/COUVIS_0999/COUVIS_0999_supplemental_index.lbl\"\n",
       "          },\n",
       "          \"versions\": {\n",
       "            \"url\": \"https://pds-rings.seti.org/holdings/metadata/COUVIS_0xxx/COUVIS_0999/COUVIS_0999_versions.lbl\"\n",
       "          }\n",
       "        }\n",
       "      }\n",
       "    },\n",
       "    \"mro\": {\n",
       "      \"hirise\": {\n",
       "        \"indexes\": {\n",
       "          \"dtm\": {\n",
       "            \"url\": \"https://hirise-pds.lpl.arizona.edu/PDS/INDEX/DTMCUMINDEX.LBL\"\n",
       "          },\n",
       "          \"edr\": {\n",
       "            \"url\": \"https://hirise-pds.lpl.arizona.edu/PDS/INDEX/EDRCUMINDEX.LBL\",\n",
       "            \"timestamp\": \"2023-05-31T21:16:55\"\n",
       "          },\n",
       "          \"rdr\": {\n",
       "            \"url\": \"https://hirise-pds.lpl.arizona.edu/PDS/INDEX/RDRCUMINDEX.LBL\",\n",
       "            \"timestamp\": \"2022-12-05T21:32:09\"\n",
       "          }\n",
       "        }\n",
       "      },\n",
       "      \"ctx\": {\n",
       "        \"index_required\": true,\n",
       "        \"root\": \"\",\n",
       "        \"calib_extension\": \"\",\n",
       "        \"with_volume\": \"\",\n",
       "        \"with_pid_folder\": \"\",\n",
       "        \"datalevels\": {\n",
       "          \"edr\": {\n",
       "            \"root\": \"\",\n",
       "            \"url\": \"https://pds-imaging.jpl.nasa.gov/data/mro/mars_reconnaissance_orbiter/ctx\",\n",
       "            \"with_volume\": false,\n",
       "            \"with_pid_folder\": true\n",
       "          }\n",
       "        },\n",
       "        \"indexes\": {\n",
       "          \"edr\": {\n",
       "            \"url\": \"\",\n",
       "            \"timestamp\": \"2022-11-07T17:21:05\"\n",
       "          }\n",
       "        }\n",
       "      }\n",
       "    },\n",
       "    \"lro\": {\n",
       "      \"diviner\": {\n",
       "        \"indexes\": {\n",
       "          \"edr1\": {\n",
       "            \"url\": \"https://pds-geosciences.wustl.edu/lro/lro-l-dlre-2-edr-v1/lrodlr_0001/index/index.lbl\"\n",
       "          },\n",
       "          \"edr2\": {\n",
       "            \"url\": \"https://pds-geosciences.wustl.edu/lro/lro-l-dlre-2-edr-v1/lrodlr_0002/index/index.lbl\"\n",
       "          },\n",
       "          \"rdr1\": {\n",
       "            \"url\": \"https://pds-geosciences.wustl.edu/lro/lro-l-dlre-4-rdr-v1/lrodlr_1001/index/rdrindex.lbl\"\n",
       "          },\n",
       "          \"rdr2\": {\n",
       "            \"url\": \"https://pds-geosciences.wustl.edu/lro/lro-l-dlre-4-rdr-v1/lrodlr_1002/index/rdrindex.lbl\"\n",
       "          }\n",
       "        }\n",
       "      },\n",
       "      \"lola\": {\n",
       "        \"indexes\": {\n",
       "          \"edr\": {\n",
       "            \"url\": \"http://pds-geosciences.wustl.edu/lro/lro-l-lola-2-edr-v1/lrolol_0xxx/index/edrindex.lbl\"\n",
       "          },\n",
       "          \"rdr\": {\n",
       "            \"url\": \"http://pds-geosciences.wustl.edu/lro/lro-l-lola-3-rdr-v1/lrolol_1xxx/index/rdrindex.lbl\"\n",
       "          }\n",
       "        }\n",
       "      },\n",
       "      \"lroc\": {\n",
       "        \"indexes\": {\n",
       "          \"edr\": {\n",
       "            \"url\": \"http://pds.lroc.asu.edu/data/LRO-L-LROC-2-EDR-V1.0/LROLRC_0048C/INDEX/CUMINDEX.LBL\"\n",
       "          }\n",
       "        }\n",
       "      }\n",
       "    },\n",
       "    \"go\": {\n",
       "      \"ssi\": {\n",
       "        \"indexes\": {\n",
       "          \"edr\": {\n",
       "            \"url\": \"https://pds-rings.seti.org/holdings/metadata/GO_0xxx/GO_0999/GO_0999_index.lbl\",\n",
       "            \"timestamp\": \"2022-02-24T03:23:28\"\n",
       "          }\n",
       "        }\n",
       "      }\n",
       "    }\n",
       "  }\n",
       "}"
      ]
     },
     "execution_count": 9,
     "metadata": {},
     "output_type": "execute_result"
    }
   ],
   "source": [
    "config"
   ]
  },
  {
   "cell_type": "code",
   "execution_count": null,
   "metadata": {},
   "outputs": [],
   "source": []
  }
 ],
 "metadata": {
  "kernelspec": {
   "display_name": "py39",
   "language": "python",
   "name": "python3"
  },
  "language_info": {
   "codemirror_mode": {
    "name": "ipython",
    "version": 3
   },
   "file_extension": ".py",
   "mimetype": "text/x-python",
   "name": "python",
   "nbconvert_exporter": "python",
   "pygments_lexer": "ipython3",
   "version": "3.9.18"
  }
 },
 "nbformat": 4,
 "nbformat_minor": 2
}
